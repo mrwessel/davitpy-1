{
 "metadata": {
  "name": "",
  "signature": "sha256:f5a5fc2efa4024852d1d18952a417d311b98c0d871e27d791019bc9d39530216"
 },
 "nbformat": 3,
 "nbformat_minor": 0,
 "worksheets": [
  {
   "cells": [
    {
     "cell_type": "markdown",
     "metadata": {},
     "source": [
      "Radar data read functions\n",
      "==\n",
      "***\n",
      "\n",
      "In this notebook, we will explore how to read radar data. The necessary routines are in `pydarn.sdio`"
     ]
    },
    {
     "cell_type": "code",
     "collapsed": false,
     "input": [
      "############################################\n",
      "# This code adds davitpy to your python path\n",
      "# Eventually, this won't be necessary\n",
      "import sys\n",
      "sys.path.append('/davitpy')\n",
      "############################################"
     ],
     "language": "python",
     "metadata": {},
     "outputs": [],
     "prompt_number": 1
    },
    {
     "cell_type": "code",
     "collapsed": false,
     "input": [
      "import pydarn.sdio\n",
      "import datetime as dt"
     ],
     "language": "python",
     "metadata": {},
     "outputs": [
      {
       "output_type": "stream",
       "stream": "stdout",
       "text": [
        "Radars information has been updated.\n"
       ]
      }
     ],
     "prompt_number": 2
    },
    {
     "cell_type": "code",
     "collapsed": false,
     "input": [
      "#the first routine we will call is radDataOpen, which\n",
      "#establishes a data piepeline.  we will now set up the args.\n",
      "\n",
      "#sTime is the time we want to start reading (reqd input)\n",
      "sTime = dt.datetime(2011,1,1,1,0)\n",
      "print sTime\n",
      "\n",
      "#rad is the 3-letter radar code for the radar we want (reqd input)\n",
      "rad='bks'\n",
      "\n",
      "#NOTE:the rest of the inputs are optional\n",
      "#eTime is the end time we want to read until\n",
      "eTime = dt.datetime(2011,1,1,2,0)\n",
      "print eTime\n",
      "\n",
      "#channel is the radar channel we want data from\n",
      "#By default this is set to None.\n",
      "#Note: For certain radars, like the UAF radars, the channel must\n",
      "#be explicitly identified such as 'a'.\n",
      "channel=None\n",
      "\n",
      "#bmnum is the beam number we want data from.  by default this is\n",
      "#None, which will read data from all beams\n",
      "bmnum=7\n",
      "\n",
      "#cp is the control program id number which we want data from\n",
      "#by default, this is set to None which reads data from all cpids\n",
      "cp=None\n",
      "\n",
      "#fileType specifies the type of data we want.  valid inputs are\n",
      "#'fitex','fitacf','lmfit','rawacf'.  by default this is 'fitex'\n",
      "#if a fit type is requested but not found, the code will automatically\n",
      "#look for other fit types\n",
      "fileType='fitacf'\n",
      "\n",
      "#filter is a boolean indicating whether to boxcar filter the data.\n",
      "#this is onyl valid for fit types, and wont work on mongo data\n",
      "filtered=False\n",
      "\n",
      "#src is a string indicating the desired data source.  valid\n",
      "#inputs are 'mongo','local','sftp'.  by default this is set to\n",
      "#None which will sequentially try all sources\n",
      "src=None"
     ],
     "language": "python",
     "metadata": {},
     "outputs": [
      {
       "output_type": "stream",
       "stream": "stdout",
       "text": [
        "2011-01-01 01:00:00\n",
        "2011-01-01 02:00:00\n"
       ]
      }
     ],
     "prompt_number": 3
    },
    {
     "cell_type": "code",
     "collapsed": false,
     "input": [
      "# Okay, now lets get the data connection\n",
      "myPtr = pydarn.sdio.radDataOpen(sTime,rad,eTime=eTime,channel=channel,bmnum=bmnum,cp=cp,fileType=fileType,filtered=filtered, src=src)"
     ],
     "language": "python",
     "metadata": {},
     "outputs": [
      {
       "output_type": "stream",
       "stream": "stdout",
       "text": [
        "\n",
        "Looking locally for fitacf files with radcode: bks channel: None\n",
        "[Errno 2] No such file or directory: '/sd-data/2011/fitacf/bks/'\n",
        "There was a problem reading local data, perhaps you are not at VT?\n",
        "Will attempt fetching data from remote.\n",
        "\n",
        "Looking on the remote SFTP server for fitacf files\n",
        "found"
       ]
      },
      {
       "output_type": "stream",
       "stream": "stdout",
       "text": [
        " fitacf data on sftp server\n",
        "Concatenating all the files in to one\n",
        "cat /tmp/sd/20110101.0001.00.bks.fitacf /tmp/sd/20110101.0201.00.bks.fitacf > /tmp/sd/20110101.010000.20110101.020000.bks.fitacf\n",
        "rm /tmp/sd/20110101.0001.00.bks.fitacf\n",
        "rm /tmp/sd/20110101.0201.00.bks.fitacf\n"
       ]
      }
     ],
     "prompt_number": 4
    },
    {
     "cell_type": "code",
     "collapsed": false,
     "input": [
      "# Note that the output or radDataOpen is of type radDataPtr\n",
      "# Let's explore its contents\n",
      "\n",
      "for key,val in myPtr.__dict__.iteritems():\n",
      "    print 'myPtr.'+key+' = '+str(val)\n",
      "    "
     ],
     "language": "python",
     "metadata": {},
     "outputs": [
      {
       "output_type": "stream",
       "stream": "stdout",
       "text": [
        "myPtr.bmnum = 7\n",
        "myPtr._radDataPtr__fd = 49\n",
        "myPtr.dType = dmap\n",
        "myPtr.stid = None\n",
        "myPtr.recordIndex = None\n",
        "myPtr.eTime = 2011-01-01 02:00:00\n",
        "myPtr.fBeam = None\n",
        "myPtr.fType = fitacf\n",
        "myPtr.sTime = 2011-01-01 01:00:00\n",
        "myPtr._radDataPtr__ptr = <open file '<fdopen>', mode 'r' at 0x7f262a604930>\n",
        "myPtr._radDataPtr__nocache = False\n",
        "myPtr._radDataPtr__src = None\n",
        "myPtr.cp = None\n",
        "myPtr._radDataPtr__filtered = False\n",
        "myPtr._radDataPtr__filename = /tmp/sd/20110101.010000.20110101.020000.bks.fitacf\n",
        "myPtr.channel = None\n",
        "myPtr.scanStartIndex = None\n"
       ]
      }
     ],
     "prompt_number": 5
    },
    {
     "cell_type": "code",
     "collapsed": false,
     "input": [
      "# Okay, now that we have our radDataPtr, we can use it to read data\n",
      "# this is done with the command radDataReadRec\n",
      "# this same command can be used for any type of data\n",
      "\n",
      "myBeam = pydarn.sdio.radDataReadRec(myPtr)"
     ],
     "language": "python",
     "metadata": {},
     "outputs": [],
     "prompt_number": 6
    },
    {
     "cell_type": "code",
     "collapsed": false,
     "input": [
      "print myBeam"
     ],
     "language": "python",
     "metadata": {},
     "outputs": [
      {
       "output_type": "stream",
       "stream": "stdout",
       "text": [
        "Beam record FROM: 2011-01-01 01:00:24.789000\n",
        "bmnum  = 7 \n",
        "fPtr  = object \n",
        "fitex  = None \n",
        "fit  = object \n",
        "prm  = object \n",
        "recordDict  = object \n",
        "stid  = 33 \n",
        "lmfit  = None \n",
        "exflg  = None \n",
        "iqflg  = None \n",
        "offset  = 5075345 \n",
        "rawacf  = object \n",
        "lmflg  = None \n",
        "rawflg  = None \n",
        "fType  = fitacf \n",
        "time  = 2011-01-01 01:00:24.789000 \n",
        "acflg  = None \n",
        "cp  = 153 \n",
        "iqdat  = object \n",
        "fitacf  = None \n",
        "channel  = 1 \n",
        "\n"
       ]
      }
     ],
     "prompt_number": 7
    },
    {
     "cell_type": "code",
     "collapsed": false,
     "input": [
      "# The output is of type beamData\n",
      "# a beamData object can store fit data as well as rawacf and iqdat data\n",
      "# let's look at the contents of myBeam\n",
      "for key,val in myBeam.__dict__.iteritems():\n",
      "    print 'myBeam.'+key+' = '+str(val)"
     ],
     "language": "python",
     "metadata": {},
     "outputs": [
      {
       "output_type": "stream",
       "stream": "stdout",
       "text": [
        "myBeam.bmnum = 7\n",
        "myBeam.fPtr = radDataPtr: \n",
        "bmnum = 7 \n",
        "_radDataPtr__fd = 49 \n",
        "dType = dmap \n",
        "stid = None \n",
        "recordIndex = None \n",
        "eTime = 2011-01-01 02:00:00 \n",
        "fBeam = None \n",
        "fType = fitacf \n",
        "sTime = 2011-01-01 01:00:00 \n",
        "_radDataPtr__ptr = <open file '<fdopen>', mode 'r' at 0x7f262a604930> \n",
        "_radDataPtr__nocache = False \n",
        "_radDataPtr__src = None \n",
        "cp = None \n",
        "_radDataPtr__filtered = False \n",
        "_radDataPtr__filename = /tmp/sd/20110101.010000.20110101.020000.bks.fitacf \n",
        "channel = None \n",
        "scanStartIndex = None \n",
        "\n",
        "myBeam.fitex = None\n",
        "myBeam.fit = Fit data: \n",
        "pwr0 = [-0.21833011507987976, 0.13968463242053986, 0.30820024013519287, -0.9260621070861816, -1.1514275074005127, -0.5076453685760498, 0.18243050575256348, -0.711816668510437, 9.412342071533203, 16.95236587524414, 17.878822326660156, 12.581954002380371, 17.12259292602539, 9.397078514099121, 8.235315322875977, 13.186558723449707, 11.812653541564941, 7.72720193862915, 1.5565544366836548, 0.47042059898376465, 1.1336286067962646, -0.4580678343772888, 0.22475972771644592, -3.086376190185547, -0.711816668510437, -0.03563461825251579, -0.8176183700561523, -0.9260621070861816, -2.1919519901275635, -0.4580678343772888, -2.1919519901275635, 1.8848177194595337, -2.656881809234619, -3.9860594272613525, -1.093980312347412, -0.711816668510437, -1.1514275074005127, 0.30820024013519287, 0.5493136644363403, -1.268653154373169, 1.1336286067962646, 1.4625476598739624, -1.38913094997406, 0.5493136644363403, -4.980223178863525, 0.26668038964271545, -10.822977066040039, -0.4090498685836792, 0.5493136644363403, -1.6406017541885376, -0.21833011507987976, 1.2349460124969482, -0.9813165664672852, 0.5493136644363403, -0.711816668510437, 0.43043002486228943, 0.81467205286026, -0.3126431405544281, -0.21833011507987976, -2.047414779663086, -2.2660655975341797, -3.8763833045959473, -2.2660655975341797, -1.976910948753357, 0.22475972771644592, -50.0, -50.0, -50.0, 0.18243050575256348, -2.656881809234619] \n",
        "slist = [2, 8, 10, 11, 12, 13, 14, 15, 16, 17, 20, 22] \n",
        "w_l = [138.74026489257812, 43.539024353027344, 0.6493353247642517, 1.6484230756759644, -4.412018299102783, 9.254546165466309, 6.942862510681152, 7.636826038360596, 3.0262320041656494, 40.602718353271484, 643.6322631835938, 523.4571533203125] \n",
        "elv = [32.59687423706055, 26.37795639038086, 0.0, 24.54866600036621, 26.934911727905273, 28.57805633544922, 22.562835693359375, 22.156665802001953, 22.459936141967773, 21.954513549804688, 15.785314559936523, 55.064029693603516] \n",
        "npnts = None \n",
        "w_l_e = [5.953930377960205, 5.19649076461792, 5.158806324005127, 1.4379761219024658, 1.189875841140747, 2.1057329177856445, 1.908123254776001, 1.4389525651931763, 1.0569854974746704, 7.321878910064697, inf, inf] \n",
        "p_l = [2.670034885406494, 9.25997257232666, 18.01845932006836, 13.3980131149292, 16.81332778930664, 9.297369003295898, 8.088324546813965, 12.664401054382324, 12.118977546691895, 7.706979751586914, 3.2016682624816895, 2.6457300186157227] \n",
        "phi0_e = [0.46479469537734985, 0.27907952666282654, 0.0, 0.12355443835258484, 0.11108725517988205, 0.16809140145778656, 0.07972008734941483, 0.11370379477739334, 0.12237101793289185, 0.23927801847457886, 0.18395373225212097, 0.25038155913352966] \n",
        "p_s = [2.603121519088745, 8.9829683303833, 18.04033851623535, 13.365021705627441, 16.855609893798828, 9.230310440063477, 8.001919746398926, 12.606446266174316, 12.087944984436035, 7.4527997970581055, 3.2016682624816895, 2.6457300186157227] \n",
        "v_e = [43553.6171875, 0.5101032853126526, 4.642399311065674, 0.23154915869235992, 0.22681516408920288, 0.5481838583946228, 0.7038559913635254, 0.32628875970840454, 0.49605968594551086, 44571.22265625, 43811.37109375, 43045.87890625] \n",
        "p_l_e = [0.09204581379890442, 0.11987489461898804, 0.03923894464969635, 0.0366370752453804, 0.03165866807103157, 0.0543171688914299, 0.04633307084441185, 0.033681996166706085, 0.024508172646164894, 0.14297817647457123, inf, inf] \n",
        "phi0 = [-1.9876309633255005, -2.6518728733062744, 0.0, -2.819774627685547, -2.598233699798584, -2.433204174041748, -2.9875330924987793, -3.0199666023254395, -2.9958102703094482, -3.035869836807251, 2.8393986225128174, 1.4915300607681274] \n",
        "v = [-48.64402389526367, -0.4383976459503174, -0.3681160807609558, -0.2367650419473648, 0.20885761082172394, -0.16632406413555145, 9.907879829406738, -0.7963374853134155, -6.197230339050293, -1.216323971748352, -47.048763275146484, -18.96500015258789] \n",
        "w_s_e = [10.72645378112793, 8.419829368591309, 33.533241271972656, 47.87622833251953, 5.638611316680908, 6.164793491363525, 8.265538215637207, 4.823324203491211, 6.33505916595459, 14.227460861206055, inf, inf] \n",
        "qflg = [1, 1, 1, 1, 1, 1, 1, 1, 1, 1, 1, 1] \n",
        "p_s_e = [0.1793357878923416, 0.11352382600307465, 0.0321536511182785, 0.0308969859033823, 0.027072491124272346, 0.04503723233938217, 0.03752046450972557, 0.027695685625076294, 0.019984036684036255, 0.14293405413627625, inf, inf] \n",
        "gflg = [0, 1, 1, 1, 1, 1, 1, 1, 1, 1, 0, 0] \n",
        "nlag = [5, 9, 5, 14, 13, 13, 17, 18, 17, 7, 5, 6] \n",
        "w_s = [247.65158081054688, 110.34780883789062, 73.43885803222656, 4.27560567855835, -30.78844451904297, 48.869529724121094, 33.05845642089844, 43.701499938964844, 23.759803771972656, 105.42868041992188, 464.567626953125, 382.4546813964844] \n",
        "\n",
        "myBeam.prm = Prm data: \n",
        "ptab  = [0, 9, 12, 20, 22, 26, 27] \n",
        "mplgs  = 18 \n",
        "nave  = 29 \n",
        "noisesearch  = 21.1200447083 \n",
        "scan  = 0 \n",
        "smsep  = 300 \n",
        "mplgexs  = 0 \n",
        "xcf  = 1 \n",
        "noisesky  = 97.9000015259 \n",
        "rsep  = 45 \n",
        "mppul  = 7 \n",
        "txpl  = 300 \n",
        "inttsc  = 3 \n",
        "frang  = 180 \n",
        "bmazm  = -33.9300003052 \n",
        "lagfr  = 1200 \n",
        "ifmode  = -1 \n",
        "noisemean  = 0.0 \n",
        "tfreq  = 10954 \n",
        "inttus  = 0 \n",
        "rxrise  = 100 \n",
        "ltab  = [[0, 0], [26, 27], [20, 22], [9, 12], [22, 26], [22, 27], [20, 26], [20, 27], [0, 9], [12, 22], [9, 20], [0, 12], [9, 22], [12, 26], [12, 27], [9, 26], [9, 27], [27, 27]] \n",
        "mpinc  = 2400 \n",
        "nrang  = 70 \n",
        "\n",
        "myBeam.recordDict = {'x_p_l': [-0.6410897374153137, 6.755218029022217, -50.0, 11.285459518432617, 16.9647274017334, 6.894476413726807, 5.198225498199463, 10.58592700958252, 10.541553497314453, 4.920353889465332, -0.019550831988453865, -2.353917121887207], 'origin.command': 'make_fit -new', 'mplgs': 18, 'txpow': 9000, 'nave': 29, 'x_gflg': [0, 0, 0, 0, 0, 0, 0, 0, 0, 0, 0, 0], 'x_sd_phi': [0.6285284757614136, 0.41949689388275146, 0.0, 0.230211541056633, 0.24607683718204498, 0.3132384717464447, 0.17750707268714905, 0.2575702369213104, 0.260303795337677, 0.3601974546909332, 0.41656583547592163, 0.30354368686676025], 'scan': 0, 'time': 1293843624.789, 'atten': 0, 'noise.vel': 0.0, 'smsep': 300, 'stat.lopwr': 0, 'v_e': [43553.6171875, 0.5101032853126526, 4.642399311065674, 0.23154915869235992, 0.22681516408920288, 0.5481838583946228, 0.7038559913635254, 0.32628875970840454, 0.49605968594551086, 44571.22265625, 43811.37109375, 43045.87890625], 'x_v_e': [52.452022552490234, 22.756593704223633, 0.0, 10.631864547729492, 9.5885648727417, 13.371294975280762, 6.733257293701172, 10.805153846740723, 10.800495147705078, 23.61043930053711, 20.962448120117188, 22.969240188598633], 'x_w_s': [86.8845443725586, -79.5556640625, 0.0, -42.49301528930664, 12.521016120910645, -58.494205474853516, -60.04588317871094, 41.278350830078125, -81.48512268066406, -105.023193359375, 131.03466796875, -108.64240264892578], 'mplgexs': 0, 'x_p_s': [-0.6986252069473267, 6.903881072998047, -50.0, 11.45840835571289, 16.924001693725586, 6.852689743041992, 5.272835731506348, 10.554282188415527, 10.548338890075684, 5.219995021820068, -0.19322027266025543, -1.832720160484314], 'radar.revision.minor': '\\x02', 'xcf': 1, 'nlag': [5, 9, 5, 14, 13, 13, 17, 18, 17, 7, 5, 6], 'cp': 153, 'gflg': [0, 1, 1, 1, 1, 1, 1, 1, 1, 1, 0, 0], 'p_s': [2.603121519088745, 8.9829683303833, 18.04033851623535, 13.365021705627441, 16.855609893798828, 9.230310440063477, 8.001919746398926, 12.606446266174316, 12.087944984436035, 7.4527997970581055, 3.2016682624816895, 2.6457300186157227], 'w_s': [247.65158081054688, 110.34780883789062, 73.43885803222656, 4.27560567855835, -30.78844451904297, 48.869529724121094, 33.05845642089844, 43.701499938964844, 23.759803771972656, 105.42868041992188, 464.567626953125, 382.4546813964844], 'p_l': [2.670034885406494, 9.25997257232666, 18.01845932006836, 13.3980131149292, 16.81332778930664, 9.297369003295898, 8.088324546813965, 12.664401054382324, 12.118977546691895, 7.706979751586914, 3.2016682624816895, 2.6457300186157227], 'origin.code': '\\x00', 'pwr0': [-0.21833011507987976, 0.13968463242053986, 0.30820024013519287, -0.9260621070861816, -1.1514275074005127, -0.5076453685760498, 0.18243050575256348, -0.711816668510437, 9.412342071533203, 16.95236587524414, 17.878822326660156, 12.581954002380371, 17.12259292602539, 9.397078514099121, 8.235315322875977, 13.186558723449707, 11.812653541564941, 7.72720193862915, 1.5565544366836548, 0.47042059898376465, 1.1336286067962646, -0.4580678343772888, 0.22475972771644592, -3.086376190185547, -0.711816668510437, -0.03563461825251579, -0.8176183700561523, -0.9260621070861816, -2.1919519901275635, -0.4580678343772888, -2.1919519901275635, 1.8848177194595337, -2.656881809234619, -3.9860594272613525, -1.093980312347412, -0.711816668510437, -1.1514275074005127, 0.30820024013519287, 0.5493136644363403, -1.268653154373169, 1.1336286067962646, 1.4625476598739624, -1.38913094997406, 0.5493136644363403, -4.980223178863525, 0.26668038964271545, -10.822977066040039, -0.4090498685836792, 0.5493136644363403, -1.6406017541885376, -0.21833011507987976, 1.2349460124969482, -0.9813165664672852, 0.5493136644363403, -0.711816668510437, 0.43043002486228943, 0.81467205286026, -0.3126431405544281, -0.21833011507987976, -2.047414779663086, -2.2660655975341797, -3.8763833045959473, -2.2660655975341797, -1.976910948753357, 0.22475972771644592, -50.0, -50.0, -50.0, 0.18243050575256348, -2.656881809234619], 'stat.agc': 0, 'intt.sc': 3, 'noise.mean': 0.0, 'intt.us': 0, 'x_w_l_e': [18.16196632385254, 12.141814231872559, 0.0, 2.9888112545013428, 1.612946629524231, 3.4955859184265137, 4.086426734924316, 2.9291563034057617, 3.4245424270629883, 10.398457527160645, 20.533992767333984, 23.3641357421875], 'stid': 33, 'mxpwr': 1073741824, 'slist': [2, 8, 10, 11, 12, 13, 14, 15, 16, 17, 20, 22], 'x_sd_l': [0.1088167130947113, 0.1119116023182869, 0.0, 0.032358333468437195, 0.020696988329291344, 0.04094412922859192, 0.05386469140648842, 0.03491220623254776, 0.04126761853694916, 0.07931867986917496, 0.17206992208957672, 0.13924650847911835], 'noise.lag0': 0.0, 'p_s_e': [0.1793357878923416, 0.11352382600307465, 0.0321536511182785, 0.0308969859033823, 0.027072491124272346, 0.04503723233938217, 0.03752046450972557, 0.027695685625076294, 0.019984036684036255, 0.14293405413627625, inf, inf], 'w_l_e': [5.953930377960205, 5.19649076461792, 5.158806324005127, 1.4379761219024658, 1.189875841140747, 2.1057329177856445, 1.908123254776001, 1.4389525651931763, 1.0569854974746704, 7.321878910064697, inf, inf], 'x_sd_s': [0.10849948227405548, 0.11171045899391174, 0.0, 0.0341142974793911, 0.020855767652392387, 0.03846437484025955, 0.0537739172577858, 0.034912411123514175, 0.0374005064368248, 0.08623339235782623, 0.18541020154953003, 0.14392593502998352], 'rsep': 45, 'p_l_e': [0.09204581379890442, 0.11987489461898804, 0.03923894464969635, 0.0366370752453804, 0.03165866807103157, 0.0543171688914299, 0.04633307084441185, 0.033681996166706085, 0.024508172646164894, 0.14297817647457123, inf, inf], 'mppul': 7, 'ercod': 0, 'fitacf.revision.minor': 0, 'radar.revision.major': '\\x01', 'channel': 1, 'ltab': [[0, 0], [26, 27], [20, 22], [9, 12], [22, 26], [22, 27], [20, 26], [20, 27], [0, 9], [12, 22], [9, 20], [0, 12], [9, 22], [12, 26], [12, 27], [9, 26], [9, 27], [27, 27]], 'elv_high': [28.3917179107666, 23.25302505493164, 0.0, 23.103954315185547, 25.767471313476562, 26.9034423828125, 21.549495697021484, 20.663501739501953, 20.87383460998535, 18.619041442871094, 11.761178970336914, 53.71719741821289], 'frang': 180, 'bmazm': -33.93000030517578, 'x_qflg': [1, 1, 4, 1, 1, 1, 1, 1, 1, 1, 1, 1], 'noise.sky': 97.9000015258789, 'x_w_s_e': [40.39364242553711, 20.506874084472656, 0.0, 10.931352615356445, 18.244220733642578, 7.732712745666504, 9.238903999328613, 10.459458351135254, 5.478457450866699, 19.448078155517578, 29.731237411499023, 39.57997131347656], 'fitacf.revision.major': 5, 'lagfr': 1200, 'x_v': [-5.7442731857299805, 0.7775803804397583, 0.0, 5.212981700897217, -0.11861176788806915, 1.1657949686050415, 23.32044792175293, 1.643282413482666, -5.962759494781494, 3.1376476287841797, -334.80169677734375, -346.0870056152344], 'lvmax': 20000, 'sd_l': [0.036861591041088104, 0.04912198334932327, 0.011641356162726879, 0.018592868000268936, 0.014480962418019772, 0.024991372600197792, 0.024652812629938126, 0.019337262958288193, 0.013934565708041191, 0.05689113214612007, inf, inf], 'w_s_e': [10.72645378112793, 8.419829368591309, 33.533241271972656, 47.87622833251953, 5.638611316680908, 6.164793491363525, 8.265538215637207, 4.823324203491211, 6.33505916595459, 14.227460861206055, inf, inf], 'x_p_l_e': [0.34947502613067627, 0.32333940267562866, 0.0, 0.07542263716459274, 0.040577467530965805, 0.09542152285575867, 0.10506077110767365, 0.06693308800458908, 0.08425424247980118, 0.22883474826812744, 0.3964177370071411, 0.5530440807342529], 'phi0': [-1.9876309633255005, -2.6518728733062744, 0.0, -2.819774627685547, -2.598233699798584, -2.433204174041748, -2.9875330924987793, -3.0199666023254395, -2.9958102703094482, -3.035869836807251, 2.8393986225128174, 1.4915300607681274], 'ifmode': -1, 'offset': 400, 'sd_s': [0.07252834737300873, 0.054977331310510635, 0.011208303272724152, 0.018665030598640442, 0.014780092053115368, 0.025271687656641006, 0.025084685534238815, 0.019573966041207314, 0.014059769921004772, 0.06592302024364471, inf, inf], 'bmnum': 7, 'x_p_s_e': [0.2987150251865387, 0.25673604011535645, 0.0, 0.06497453153133392, 0.034711599349975586, 0.07869884371757507, 0.08476383239030838, 0.05498400703072548, 0.06607280671596527, 0.21483230590820312, 0.4145508110523224, 0.4802868962287903], 'elv_low': [36.323150634765625, 29.155765533447266, 0.0, 25.908018112182617, 28.05190086364746, 30.157596588134766, 23.529001235961914, 23.547365188598633, 23.932653427124023, 24.809743881225586, 18.8524227142334, 56.38681411743164], 'noise.search': 21.120044708251953, 'tfreq': 10954, 'ptab': [0, 9, 12, 20, 22, 26, 27], 'txpl': 300, 'elv': [32.59687423706055, 26.37795639038086, 0.0, 24.54866600036621, 26.934911727905273, 28.57805633544922, 22.562835693359375, 22.156665802001953, 22.459936141967773, 21.954513549804688, 15.785314559936523, 55.064029693603516], 'origin.time': 'Wed Feb  1 14:00:22 2012', 'x_w_l': [18.689571380615234, -23.047637939453125, 0.0, -12.588224411010742, 2.4633755683898926, -7.912283420562744, -12.816840171813965, 5.781503200531006, -17.92015838623047, -40.646244049072266, 59.4931755065918, -51.06681442260742], 'phi0_e': [0.46479469537734985, 0.27907952666282654, 0.0, 0.12355443835258484, 0.11108725517988205, 0.16809140145778656, 0.07972008734941483, 0.11370379477739334, 0.12237101793289185, 0.23927801847457886, 0.18395373225212097, 0.25038155913352966], 'w_l': [138.74026489257812, 43.539024353027344, 0.6493353247642517, 1.6484230756759644, -4.412018299102783, 9.254546165466309, 6.942862510681152, 7.636826038360596, 3.0262320041656494, 40.602718353271484, 643.6322631835938, 523.4571533203125], 'rxrise': 100, 'combf': 'A SuperDARN', 'v': [-48.64402389526367, -0.4383976459503174, -0.3681160807609558, -0.2367650419473648, 0.20885761082172394, -0.16632406413555145, 9.907879829406738, -0.7963374853134155, -6.197230339050293, -1.216323971748352, -47.048763275146484, -18.96500015258789], 'mpinc': 2400, 'qflg': [1, 1, 1, 1, 1, 1, 1, 1, 1, 1, 1, 1], 'nrang': 70, 'sd_phi': [0.1615460366010666, 0.016509881243109703, 0.03636876493692398, 0.0101867550984025, 0.010033167898654938, 0.023569706827402115, 0.03260679915547371, 0.014968696050345898, 0.02187310717999935, 0.03707275539636612, 0.2356281280517578, 0.1499413549900055]}\n",
        "myBeam.stid = 33\n",
        "myBeam.lmfit = None\n",
        "myBeam.exflg = None\n",
        "myBeam.iqflg = None\n",
        "myBeam.offset = 5075345\n",
        "myBeam.rawacf = Raw data: \n",
        "pwr0 = [] \n",
        "acfd = [] \n",
        "xcfd = [] \n",
        "parent = Beam record FROM: 2011-01-01 01:00:24.789000\n",
        "bmnum  = 7 \n",
        "fPtr  = object \n",
        "fitex  = None \n",
        "fit  = object \n",
        "prm  = object \n",
        "recordDict  = object \n",
        "stid  = 33 \n",
        "lmfit  = None \n",
        "exflg  = None \n",
        "iqflg  = None \n",
        "offset  = 5075345 \n",
        "rawacf  = object \n",
        "lmflg  = None \n",
        "rawflg  = None \n",
        "fType  = fitacf \n",
        "time  = 2011-01-01 01:00:24.789000 \n",
        "acflg  = None \n",
        "cp  = 153 \n",
        "iqdat  = object \n",
        "fitacf  = None \n",
        "channel  = 1 \n",
        " \n",
        "\n",
        "myBeam.lmflg = None\n",
        "myBeam.rawflg = None\n",
        "myBeam.fType = fitacf\n",
        "myBeam.time = 2011-01-01 01:00:24.789000\n",
        "myBeam.acflg = None\n",
        "myBeam.cp = 153\n",
        "myBeam.iqdat = IQ data: \n",
        "chnnum = None \n",
        "badtr = None \n",
        "tsze = None \n",
        "skpnum = None \n",
        "seqnum = None \n",
        "smpnum = None \n",
        "tus = None \n",
        "tsc = None \n",
        "intData = [] \n",
        "tbadtr = None \n",
        "mainData = [] \n",
        "toff = None \n",
        "tnoise = None \n",
        "tatten = None \n",
        "btnum = None \n",
        "\n",
        "myBeam.fitacf = None\n",
        "myBeam.channel = 1\n"
       ]
      }
     ],
     "prompt_number": 8
    },
    {
     "cell_type": "code",
     "collapsed": false,
     "input": [
      "# See that the rawacf, fit, and prm attributes are objects\n",
      "# the rawacf object is empty, since we read fitacf data\n",
      "# lets look at the prm object\n",
      "for key,val in myBeam.prm.__dict__.iteritems():\n",
      "    print 'myBeam.prm.'+key+' = '+str(val)"
     ],
     "language": "python",
     "metadata": {},
     "outputs": [
      {
       "output_type": "stream",
       "stream": "stdout",
       "text": [
        "myBeam.prm.ptab = [0, 9, 12, 20, 22, 26, 27]\n",
        "myBeam.prm.mplgs = 18\n",
        "myBeam.prm.nave = 29\n",
        "myBeam.prm.noisesearch = 21.1200447083\n",
        "myBeam.prm.scan = 0\n",
        "myBeam.prm.smsep = 300\n",
        "myBeam.prm.mplgexs = 0\n",
        "myBeam.prm.xcf = 1\n",
        "myBeam.prm.noisesky = 97.9000015259\n",
        "myBeam.prm.rsep = 45\n",
        "myBeam.prm.mppul = 7\n",
        "myBeam.prm.txpl = 300\n",
        "myBeam.prm.inttsc = 3\n",
        "myBeam.prm.frang = 180\n",
        "myBeam.prm.bmazm = -33.9300003052\n",
        "myBeam.prm.lagfr = 1200\n",
        "myBeam.prm.ifmode = -1\n",
        "myBeam.prm.noisemean = 0.0\n",
        "myBeam.prm.tfreq = 10954\n",
        "myBeam.prm.inttus = 0\n",
        "myBeam.prm.rxrise = 100\n",
        "myBeam.prm.ltab = [[0, 0], [26, 27], [20, 22], [9, 12], [22, 26], [22, 27], [20, 26], [20, 27], [0, 9], [12, 22], [9, 20], [0, 12], [9, 22], [12, 26], [12, 27], [9, 26], [9, 27], [27, 27]]\n",
        "myBeam.prm.mpinc = 2400\n",
        "myBeam.prm.nrang = 70\n"
       ]
      }
     ],
     "prompt_number": 9
    },
    {
     "cell_type": "code",
     "collapsed": false,
     "input": [
      "# And lets look at whats in the fit object\n",
      "for key in myBeam.fit.__dict__.keys():\n",
      "    print 'myBeam.fit.'+key"
     ],
     "language": "python",
     "metadata": {},
     "outputs": [
      {
       "output_type": "stream",
       "stream": "stdout",
       "text": [
        "myBeam.fit.pwr0\n",
        "myBeam.fit.slist\n",
        "myBeam.fit.w_l\n",
        "myBeam.fit.elv\n",
        "myBeam.fit.npnts\n",
        "myBeam.fit.w_l_e\n",
        "myBeam.fit.p_l\n",
        "myBeam.fit.phi0_e\n",
        "myBeam.fit.p_s\n",
        "myBeam.fit.v_e\n",
        "myBeam.fit.p_l_e\n",
        "myBeam.fit.phi0\n",
        "myBeam.fit.v\n",
        "myBeam.fit.w_s_e\n",
        "myBeam.fit.qflg\n",
        "myBeam.fit.p_s_e\n",
        "myBeam.fit.gflg\n",
        "myBeam.fit.nlag\n",
        "myBeam.fit.w_s\n"
       ]
      }
     ],
     "prompt_number": 10
    },
    {
     "cell_type": "code",
     "collapsed": false,
     "input": [
      "# we can read to the end of the specified time period, like so:\n",
      "vel, t = [], []\n",
      "while(myBeam != None):\n",
      "    vel.append( myBeam.fit.v )\n",
      "    t.append( myBeam.time )\n",
      "    myBeam = pydarn.sdio.radDataReadRec(myPtr)"
     ],
     "language": "python",
     "metadata": {},
     "outputs": [
      {
       "output_type": "stream",
       "stream": "stdout",
       "text": [
        "\n",
        "reached end of data\n"
       ]
      }
     ],
     "prompt_number": 11
    },
    {
     "cell_type": "code",
     "collapsed": false,
     "input": [
      "# For instance, we could look at the velocity distribution during that period\n",
      "ax = gca()\n",
      "for i in range(len(t)):\n",
      "    if not vel[i]: continue\n",
      "    scatter([date2num(t[i])]*len(vel[i]), vel[i], s=1)\n",
      "ylim([-400, 400])\n",
      "xlim([date2num(sTime), date2num(eTime)])\n",
      "tloc = MinuteLocator(interval=10)\n",
      "tfmt = DateFormatter('%H:%M')\n",
      "ax.xaxis.set_major_locator(tloc)\n",
      "ax.xaxis.set_major_formatter(tfmt)\n",
      "ylabel('Velocity [m/s]')\n",
      "grid()"
     ],
     "language": "python",
     "metadata": {},
     "outputs": [
      {
       "metadata": {},
       "output_type": "display_data",
       "png": "[encoded data removed]",
       "text": [
        "<matplotlib.figure.Figure at 0x7f26298ece10>"
       ]
      }
     ],
     "prompt_number": 12
    },
    {
     "cell_type": "code",
     "collapsed": false,
     "input": [
      "# Now, let's try and example where we read rawacf data (this is slow)\n",
      "myPtr = pydarn.sdio.radDataOpen(sTime,rad,eTime=eTime,channel=channel,bmnum=bmnum,cp=cp,fileType='rawacf',filtered=filtered, src=src)\n",
      "myBeam = pydarn.sdio.radDataReadRec(myPtr)\n",
      "print '\\n'\n",
      "for key in myBeam.rawacf.__dict__.keys():\n",
      "    print 'myBeam.rawacf.'+key"
     ],
     "language": "python",
     "metadata": {},
     "outputs": [
      {
       "output_type": "stream",
       "stream": "stdout",
       "text": [
        "\n",
        "Looking locally for rawacf files with radcode: bks channel: None\n",
        "[Errno 2] No such file or directory: '/sd-data/2011/rawacf/bks/'\n",
        "There was a problem reading local data, perhaps you are not at VT?\n",
        "Will attempt fetching data from remote.\n",
        "\n",
        "Looking on the remote SFTP server for rawacf files\n",
        "found"
       ]
      },
      {
       "output_type": "stream",
       "stream": "stdout",
       "text": [
        " rawacf data on sftp server\n",
        "Concatenating all the files in to one\n",
        "cat /tmp/sd/20110101.0001.00.bks.rawacf /tmp/sd/20110101.0201.00.bks.rawacf > /tmp/sd/20110101.010000.20110101.020000.bks.rawacf\n",
        "rm /tmp/sd/20110101.0001.00.bks.rawacf"
       ]
      },
      {
       "output_type": "stream",
       "stream": "stdout",
       "text": [
        "\n",
        "rm /tmp/sd/20110101.0201.00.bks.rawacf"
       ]
      },
      {
       "output_type": "stream",
       "stream": "stdout",
       "text": [
        "\n",
        "\n"
       ]
      },
      {
       "output_type": "stream",
       "stream": "stdout",
       "text": [
        "\n",
        "myBeam.rawacf.pwr0\n",
        "myBeam.rawacf.acfd\n",
        "myBeam.rawacf.xcfd\n",
        "myBeam.rawacf.parent\n"
       ]
      }
     ],
     "prompt_number": 13
    },
    {
     "cell_type": "code",
     "collapsed": false,
     "input": [
      "# this is a little dense, so lets look at the ACF just for range gate 0, and the lag table\n",
      "print myBeam.rawacf.acfd[0]\n",
      "print myBeam.prm.ltab"
     ],
     "language": "python",
     "metadata": {},
     "outputs": [
      {
       "output_type": "stream",
       "stream": "stdout",
       "text": [
        "[[191.6206817626953, 0.0], [-43.7931022644043, -21.517240524291992], [48.86206817626953, 74.68965148925781], [6.413793087005615, -49.034481048583984], [43.10344696044922, -1.482758641242981], [-53.89655303955078, -132.55172729492188], [-3.2413792610168457, -26.10344886779785], [66.96551513671875, -61.75862121582031], [-19.689655303955078, 36.517242431640625], [20.34482765197754, 70.03448486328125], [-31.931034088134766, 15.793103218078613], [-8.965517044067383, -35.75862121582031], [-43.75862121582031, -74.5862045288086], [1.137930989265442, 16.10344886779785], [38.482757568359375, -42.44827651977539], [-4.758620738983154, 29.413793563842773], [-0.9655172228813171, -34.2068977355957], [753.586181640625, 0.0]]\n",
        "[[0, 0], [26, 27], [20, 22], [9, 12], [22, 26], [22, 27], [20, 26], [20, 27], [0, 9], [12, 22], [9, 20], [0, 12], [9, 22], [12, 26], [12, 27], [9, 26], [9, 27], [27, 27]]\n"
       ]
      }
     ],
     "prompt_number": 14
    },
    {
     "cell_type": "code",
     "collapsed": false,
     "input": [
      "# we can plot this, like so:\n",
      "import matplotlib.pyplot as plt\n",
      "lags,re,im = [],[],[]\n",
      "for i in range(len(myBeam.prm.ltab)-1):\n",
      "    lags.append(myBeam.prm.ltab[i][1]-myBeam.prm.ltab[i][0])\n",
      "    re.append(myBeam.rawacf.acfd[0][i][0])\n",
      "    im.append(myBeam.rawacf.acfd[0][i][1])\n",
      "fig = plt.figure()\n",
      "plt.plot(lags,re,'ro-')\n",
      "plt.plot(lags,im,'bo-')\n",
      "plt.show()"
     ],
     "language": "python",
     "metadata": {},
     "outputs": [
      {
       "metadata": {},
       "output_type": "display_data",
       "png": "[encoded data removed]",
       "text": [
        "<matplotlib.figure.Figure at 0x7f262990f750>"
       ]
      }
     ],
     "prompt_number": 15
    },
    {
     "cell_type": "code",
     "collapsed": false,
     "input": [
      "# And finally, lets try an iqdat file\n",
      "# THIS IS VERY SLOOOOOW\n",
      "myPtr = pydarn.sdio.radDataOpen(dt.datetime(2012,1,1,1,0),'fhe',eTime=dt.datetime(2012,1,1,1,30),channel=channel,bmnum=bmnum,cp=cp,fileType='iqdat',filtered=filtered, src=src)\n",
      "myBeam = pydarn.sdio.radDataReadRec(myPtr)\n",
      "for key in myBeam.iqdat.__dict__.keys():\n",
      "    print 'myBeam.iqdat.'+key"
     ],
     "language": "python",
     "metadata": {},
     "outputs": [
      {
       "output_type": "stream",
       "stream": "stdout",
       "text": [
        "\n",
        "Looking locally for iqdat files with radcode: fhe channel: None\n",
        "[Errno 2] No such file or directory: '/sd-data/2012/iqdat/fhe/'\n",
        "There was a problem reading local data, perhaps you are not at VT?\n",
        "Will attempt fetching data from remote.\n",
        "\n",
        "Looking on the remote SFTP server for iqdat files\n",
        "found"
       ]
      },
      {
       "output_type": "stream",
       "stream": "stdout",
       "text": [
        " iqdat data on sftp server\n",
        "Concatenating all the files in to one\n",
        "cat /tmp/sd/20120101.0001.00.fhe.iqdat > /tmp/sd/20120101.010000.20120101.013000.fhe.iqdat\n",
        "rm /tmp/sd/20120101.0001.00.fhe.iqdat"
       ]
      },
      {
       "output_type": "stream",
       "stream": "stdout",
       "text": [
        "\n",
        "myBeam.iqdat.chnnum"
       ]
      },
      {
       "output_type": "stream",
       "stream": "stdout",
       "text": [
        "\n",
        "myBeam.iqdat.badtr\n",
        "myBeam.iqdat.tsze\n",
        "myBeam.iqdat.skpnum\n",
        "myBeam.iqdat.seqnum\n",
        "myBeam.iqdat.smpnum\n",
        "myBeam.iqdat.tus\n",
        "myBeam.iqdat.tsc\n",
        "myBeam.iqdat.intData\n",
        "myBeam.iqdat.tbadtr\n",
        "myBeam.iqdat.mainData\n",
        "myBeam.iqdat.toff\n",
        "myBeam.iqdat.tnoise\n",
        "myBeam.iqdat.tatten\n",
        "myBeam.iqdat.btnum\n"
       ]
      }
     ],
     "prompt_number": 16
    },
    {
     "cell_type": "code",
     "collapsed": false,
     "input": [
      "# again this is dense, lets plot a single pulse sequence iqdat\n",
      "# we can plot this, like so:\n",
      "samp = []\n",
      "iq = [[],[]]\n",
      "for i in range(myBeam.iqdat.smpnum):\n",
      "    samp.append(i)\n",
      "    iq[0].append(myBeam.iqdat.mainData[0][i][0])\n",
      "    iq[1].append(myBeam.iqdat.mainData[0][i][1])\n",
      "fig = plt.figure()\n",
      "plt.plot(samp,iq[0],'r-')\n",
      "plt.plot(samp,iq[1],'b-')\n",
      "plt.show()\n"
     ],
     "language": "python",
     "metadata": {},
     "outputs": [
      {
       "metadata": {},
       "output_type": "display_data",
       "png": "[encoded data removed]",
       "text": [
        "<matplotlib.figure.Figure at 0x7f2628370150>"
       ]
      }
     ],
     "prompt_number": 17
    },
    {
     "cell_type": "code",
     "collapsed": false,
     "input": [
      "# this concludes our tutorial on how to read radar data.\n",
      "\n",
      "# ENJOY!"
     ],
     "language": "python",
     "metadata": {},
     "outputs": [],
     "prompt_number": 18
    }
   ],
   "metadata": {}
  }
 ]
}